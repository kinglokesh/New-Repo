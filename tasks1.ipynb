{
  "nbformat": 4,
  "nbformat_minor": 0,
  "metadata": {
    "colab": {
      "provenance": [],
      "authorship_tag": "ABX9TyOcsGR8zpFV/hYW3mF+afeg",
      "include_colab_link": true
    },
    "kernelspec": {
      "name": "python3",
      "display_name": "Python 3"
    },
    "language_info": {
      "name": "python"
    }
  },
  "cells": [
    {
      "cell_type": "markdown",
      "metadata": {
        "id": "view-in-github",
        "colab_type": "text"
      },
      "source": [
        "<a href=\"https://colab.research.google.com/github/kinglokesh/New-Repo/blob/main/tasks1.ipynb\" target=\"_parent\"><img src=\"https://colab.research.google.com/assets/colab-badge.svg\" alt=\"Open In Colab\"/></a>"
      ]
    },
    {
      "cell_type": "code",
      "execution_count": null,
      "metadata": {
        "id": "-p_KXNtV_AqU"
      },
      "outputs": [],
      "source": [
        "import random\n",
        "import matplotlib.pyplot as plt"
      ]
    },
    {
      "cell_type": "markdown",
      "source": [
        "The first library is called \"**random**\". It allows you to generate random numbers, select random elements from a list, and do other random operations in our Python code.\n",
        "\n",
        "The second library is called \"**matplotlib.pyplot**\". It's a powerful library for creating visualizations and plots in Python. With matplotlib.pyplot, you can create line plots, scatter plots, bar charts, histograms, and much more. It's a great tool for analyzing and presenting data in a visual way.\n"
      ],
      "metadata": {
        "id": "w-iqmo3UBAk3"
      }
    },
    {
      "cell_type": "code",
      "source": [
        "mapping_dict = dict(zip(range(0,10),range(0,10)))"
      ],
      "metadata": {
        "id": "nGjZn3in_Os-"
      },
      "execution_count": null,
      "outputs": []
    },
    {
      "cell_type": "markdown",
      "source": [
        "This code creates a **Dictionarie**, which maps numbers from 0 to 9 to themselves. It allows you to input a number and retrieve the same number as the output."
      ],
      "metadata": {
        "id": "l1Q0xN6zCJCd"
      }
    },
    {
      "cell_type": "code",
      "source": [
        "mapping_dict"
      ],
      "metadata": {
        "colab": {
          "base_uri": "https://localhost:8080/"
        },
        "id": "lxaH-ryK_e6P",
        "outputId": "f7f67fe2-a5b7-4e0f-b038-3080f36d1751"
      },
      "execution_count": null,
      "outputs": [
        {
          "output_type": "execute_result",
          "data": {
            "text/plain": [
              "{0: 0, 1: 1, 2: 2, 3: 3, 4: 4, 5: 5, 6: 6, 7: 7, 8: 8, 9: 9}"
            ]
          },
          "metadata": {},
          "execution_count": 5
        }
      ]
    },
    {
      "cell_type": "markdown",
      "source": [
        "This mapping_dict is print the dictionarie."
      ],
      "metadata": {
        "id": "7K5oHvf0DT-K"
      }
    },
    {
      "cell_type": "code",
      "source": [
        "for k in mapping_dict.keys():\n",
        "\n",
        "  mapping_dict[k] = str(mapping_dict[k])\n",
        "mapping_dict"
      ],
      "metadata": {
        "colab": {
          "base_uri": "https://localhost:8080/"
        },
        "id": "cSXYzXkG_kwP",
        "outputId": "599b050d-d77e-4cb7-8caa-accfd6ca0669"
      },
      "execution_count": null,
      "outputs": [
        {
          "output_type": "execute_result",
          "data": {
            "text/plain": [
              "{0: '0',\n",
              " 1: '1',\n",
              " 2: '2',\n",
              " 3: '3',\n",
              " 4: '4',\n",
              " 5: '5',\n",
              " 6: '6',\n",
              " 7: '7',\n",
              " 8: '8',\n",
              " 9: '9'}"
            ]
          },
          "metadata": {},
          "execution_count": 17
        }
      ]
    },
    {
      "cell_type": "markdown",
      "source": [
        "This code is used to iterate over each **key** in the mapping_dict. For each key, the corresponding **value** is converted to a string.\n",
        "\n",
        "In the line for k in mapping_dict.keys():, we are looping through the keys of the mapping_dict. In each iteration, the line mapping_dict[k] = str(mapping_dict[k]) converts the value of each key in the mapping_dict to a string.\n",
        "\n",
        "After running this code, the values in the mapping_dict will be in string format.\n"
      ],
      "metadata": {
        "id": "j69CCtmbFGny"
      }
    },
    {
      "cell_type": "code",
      "source": [
        "for i in range(0,26):\n",
        "  mapping_dict[10+i] = chr(65+i)\n",
        "mapping_dict"
      ],
      "metadata": {
        "colab": {
          "base_uri": "https://localhost:8080/"
        },
        "id": "h2NJL8UD_qLW",
        "outputId": "157f4adb-8825-4fb7-93cd-ae6f814e5010"
      },
      "execution_count": null,
      "outputs": [
        {
          "output_type": "execute_result",
          "data": {
            "text/plain": [
              "{0: '0',\n",
              " 1: '1',\n",
              " 2: '2',\n",
              " 3: '3',\n",
              " 4: '4',\n",
              " 5: '5',\n",
              " 6: '6',\n",
              " 7: '7',\n",
              " 8: '8',\n",
              " 9: '9',\n",
              " 10: 'A',\n",
              " 11: 'B',\n",
              " 12: 'C',\n",
              " 13: 'D',\n",
              " 14: 'E',\n",
              " 15: 'F',\n",
              " 16: 'G',\n",
              " 17: 'H',\n",
              " 18: 'I',\n",
              " 19: 'J',\n",
              " 20: 'K',\n",
              " 21: 'L',\n",
              " 22: 'M',\n",
              " 23: 'N',\n",
              " 24: 'O',\n",
              " 25: 'P',\n",
              " 26: 'Q',\n",
              " 27: 'R',\n",
              " 28: 'S',\n",
              " 29: 'T',\n",
              " 30: 'U',\n",
              " 31: 'V',\n",
              " 32: 'W',\n",
              " 33: 'X',\n",
              " 34: 'Y',\n",
              " 35: 'Z'}"
            ]
          },
          "metadata": {},
          "execution_count": 19
        }
      ]
    },
    {
      "cell_type": "markdown",
      "source": [
        "This code is used to add additional key-value pairs to the mapping_dict. **It adds uppercase alphabets from A to Z as values, corresponding to keys ranging from 10 to 35.**\n",
        "\n",
        "In the line for i in range(0, 26):, **we are iterating over the range of numbers from 0 to 25. In each iteration, the line mapping_dict[10+i] = chr(65+i) adds a key-value pair to the mapping_dict. The key is generated by adding 10 to the current iteration value**, and the value is the uppercase alphabet corresponding to the current iteration value using the chr() function.\n",
        "\n",
        "After running this code, the mapping_dict will have additional key-value pairs, where the keys range from 10 to 35 and the values are uppercase alphabets from A to Z.\n",
        "\n"
      ],
      "metadata": {
        "id": "v3bCuwANG1m-"
      }
    },
    {
      "cell_type": "code",
      "source": [
        "sample_size = 5000000\n",
        "\n",
        "random_numbers = list()\n",
        "\n",
        "for i in range(0,sample_size):\n",
        "\n",
        "  blank_str = str()\n",
        "\n",
        "  random_digit = random.randint(0,35)\n",
        "  blank_str = blank_str + mapping_dict[random_digit]\n",
        "\n",
        "  random_digit = random.randint(0,35)\n",
        "  blank_str = blank_str + mapping_dict[random_digit]\n",
        "\n",
        "  for i in range(0,8):\n",
        "    coin_toss = random.randint(0,1)\n",
        "\n",
        "    if coin_toss == 1:\n",
        "\n",
        "      random_digit = random.randint(0,35)\n",
        "      blank_str = blank_str + mapping_dict[random_digit]\n",
        "\n",
        "    else:\n",
        "      break\n",
        "\n",
        "  random_numbers.append(blank_str)"
      ],
      "metadata": {
        "id": "SJ1XOucJ_w6W"
      },
      "execution_count": null,
      "outputs": []
    },
    {
      "cell_type": "markdown",
      "source": [
        "This code generates a list of random numbers represented as strings.\n",
        "\n",
        "**First, it initializes an empty list called random_numbers. Then, it enters a loop that runs sample_size number of times, which is set to 5,000,000 in this case.**\n",
        "\n",
        "**Inside the loop, it creates an empty string called blank_str. It generates two random digits between 0 and 35 using the random.randint() function and adds the corresponding value from the mapping_dict to blank_str**.\n",
        "\n",
        "**Next, it enters another loop that runs 8 times. In each iteration, it performs a coin toss by generating a random number between 0 and 1. If the result is 1, it generates another random digit between 0 and 35 and adds it to blank_str. If the result is 0, it breaks out of the loop.**\n",
        "\n",
        "**After the inner loop ends, it appends blank_str to the random_numbers list.**\n",
        "\n",
        "**This process repeats until the outer loop completes sample_size iterations.**\n",
        "\n",
        "**In the end, the random_numbers list contains 5,000,000 randomly generated number strings.**"
      ],
      "metadata": {
        "id": "CAeOERQ-J0gC"
      }
    },
    {
      "cell_type": "code",
      "source": [
        "reverse_mapping_dict = dict()\n",
        "\n",
        "for k in mapping_dict.keys():\n",
        "  reverse_mapping_dict[mapping_dict[k]] = k"
      ],
      "metadata": {
        "id": "4qVtt_-kACMX"
      },
      "execution_count": null,
      "outputs": []
    },
    {
      "cell_type": "markdown",
      "source": [
        "Certainly! This code creates a new dictionary called reverse_mapping_dict by reversing the key-value pairs of the mapping_dict dictionary.\n",
        "\n",
        "**In the code, it first initializes an empty dictionary called reverse_mapping_dict. Then, it iterates through the keys of the mapping_dict dictionary using the mapping_dict.keys() method.**\n",
        "\n",
        "**Inside the loop, it assigns the value of mapping_dict[k] as the key in reverse_mapping_dict, and the key k as the corresponding value. This effectively reverses the key-value pairs of the mapping_dict dictionary.**\n",
        "\n",
        "**After the loop completes, the reverse_mapping_dict dictionary contains the reversed key-value pairs from the mapping_dict dictionary.**\n",
        "\n",
        "This can be useful when you want to look up the original key from a given value in the mapping_dict."
      ],
      "metadata": {
        "id": "uHeBk9CDKKQF"
      }
    },
    {
      "cell_type": "code",
      "source": [
        "base_frequency = dict()\n",
        "\n",
        "for blank_str in random_numbers:\n",
        "  highest_digit = max(blank_str)\n",
        "  highest_base = reverse_mapping_dict[highest_digit] + 1\n",
        "\n",
        "  if highest_base in base_frequency.keys():\n",
        "    base_frequency[highest_base] += (1/sample_size)\n",
        "  else:\n",
        "    base_frequency[highest_base] = (1/sample_size)"
      ],
      "metadata": {
        "id": "c_KydawfAFH-"
      },
      "execution_count": null,
      "outputs": []
    },
    {
      "cell_type": "markdown",
      "source": [
        "**This code is calculating the frequency of the highest base among the random numbers.**\n",
        "\n",
        "Here's a breakdown of how it works:\n",
        "- It starts with an empty dictionary called base_frequency.\n",
        "- Then, it goes through each blank_str in the random_numbers list.\n",
        "- Inside the loop, it finds the highest digit in the blank_str.\n",
        "- Using the reverse_mapping_dict, it determines the corresponding highest base by adding 1 to the digit's mapping.\n",
        "- If the highest base is already a key in the base_frequency dictionary, it adds (1/sample_size) to its existing value.\n",
        "- If the highest base is not a key, it sets its value to (1/sample_size).\n",
        "- This process calculates the frequency of the highest base among the random numbers.\n"
      ],
      "metadata": {
        "id": "sN7nlxncLTOw"
      }
    },
    {
      "cell_type": "code",
      "source": [
        "plt.bar(x=base_frequency.keys(),height=base_frequency.values())"
      ],
      "metadata": {
        "colab": {
          "base_uri": "https://localhost:8080/",
          "height": 447
        },
        "id": "eAZBEYgsAMI-",
        "outputId": "e80a19da-7990-442d-a280-350e4adaa513"
      },
      "execution_count": null,
      "outputs": [
        {
          "output_type": "execute_result",
          "data": {
            "text/plain": [
              "<BarContainer object of 36 artists>"
            ]
          },
          "metadata": {},
          "execution_count": 23
        },
        {
          "output_type": "display_data",
          "data": {
            "text/plain": [
              "<Figure size 640x480 with 1 Axes>"
            ],
            "image/png": "[encoded data removed]"
          },
          "metadata": {}
        }
      ]
    },
    {
      "cell_type": "markdown",
      "source": [
        "**This code is using the matplotlib library to create a bar chart based on the base_frequency dictionary.**\n",
        "\n",
        "Here's what it does:\n",
        "- plt.bar() is a function from the matplotlib.pyplot module that creates a bar chart.\n",
        "- The x parameter specifies the x-axis values, which are the keys of the base_frequency dictionary (the highest bases).\n",
        "- The height parameter specifies the height of each bar, which are the values of the base_frequency dictionary (the frequencies).\n",
        "- By calling plt.bar(x=base_frequency.keys(), height=base_frequency.values()), the code generates a bar chart with the highest bases on the x-axis and their corresponding frequencies on the y-axis."
      ],
      "metadata": {
        "id": "2VAk7cYBLwrd"
      }
    }
  ]
}